{
 "cells": [
  {
   "cell_type": "markdown",
   "metadata": {},
   "source": [
    "# Comparative analysis of kids entering care in Nottingham 2011-2016\n",
    "#### Data source: https://www.gov.uk/government/collections/statistics-looked-after-children"
   ]
  },
  {
   "cell_type": "markdown",
   "metadata": {},
   "source": [
    "Import pandas"
   ]
  },
  {
   "cell_type": "code",
   "execution_count": 34,
   "metadata": {
    "collapsed": true
   },
   "outputs": [],
   "source": [
    "import pandas as pd"
   ]
  },
  {
   "cell_type": "markdown",
   "metadata": {},
   "source": [
    "Import datasets"
   ]
  },
  {
   "cell_type": "code",
   "execution_count": 35,
   "metadata": {
    "collapsed": true,
    "scrolled": true
   },
   "outputs": [],
   "source": [
    "yr11 = pd.read_csv(\"data/2011.csv\");"
   ]
  },
  {
   "cell_type": "code",
   "execution_count": 36,
   "metadata": {
    "collapsed": true
   },
   "outputs": [],
   "source": [
    "yr12 = pd.read_csv(\"data/2012.csv\");"
   ]
  },
  {
   "cell_type": "markdown",
   "metadata": {},
   "source": [
    "Inspect and edit column names by year, leaving geographical ID on which to merge"
   ]
  },
  {
   "cell_type": "code",
   "execution_count": 37,
   "metadata": {},
   "outputs": [
    {
     "data": {
      "text/html": [
       "<div>\n",
       "<style>\n",
       "    .dataframe thead tr:only-child th {\n",
       "        text-align: right;\n",
       "    }\n",
       "\n",
       "    .dataframe thead th {\n",
       "        text-align: left;\n",
       "    }\n",
       "\n",
       "    .dataframe tbody tr th {\n",
       "        vertical-align: top;\n",
       "    }\n",
       "</style>\n",
       "<table border=\"1\" class=\"dataframe\">\n",
       "  <thead>\n",
       "    <tr style=\"text-align: right;\">\n",
       "      <th></th>\n",
       "      <th>New_geog_code</th>\n",
       "      <th>geog_l</th>\n",
       "      <th>geog_c</th>\n",
       "      <th>geog_n</th>\n",
       "      <th>CLA_started2011</th>\n",
       "      <th>CLA_taken2011</th>\n",
       "      <th>SCLA_male</th>\n",
       "      <th>SCLA_female</th>\n",
       "      <th>SCLA_U1</th>\n",
       "      <th>SCLA_1to4</th>\n",
       "      <th>...</th>\n",
       "      <th>SCLA_ICO</th>\n",
       "      <th>SCLA_FCO</th>\n",
       "      <th>SCLA_POG</th>\n",
       "      <th>SCLA_S20</th>\n",
       "      <th>SCLA_UPP</th>\n",
       "      <th>SCLA_SEPO</th>\n",
       "      <th>SCLA_UCAO</th>\n",
       "      <th>SCLA_ONCT</th>\n",
       "      <th>SCLA_PACE</th>\n",
       "      <th>SCLA_SORR</th>\n",
       "    </tr>\n",
       "  </thead>\n",
       "  <tbody>\n",
       "    <tr>\n",
       "      <th>0</th>\n",
       "      <td>E92000001</td>\n",
       "      <td>NATIONAL</td>\n",
       "      <td>999</td>\n",
       "      <td>ENGLAND</td>\n",
       "      <td>27310</td>\n",
       "      <td>9480</td>\n",
       "      <td>14390</td>\n",
       "      <td>12920</td>\n",
       "      <td>5320</td>\n",
       "      <td>5670</td>\n",
       "      <td>...</td>\n",
       "      <td>5410</td>\n",
       "      <td>150</td>\n",
       "      <td>20</td>\n",
       "      <td>17320</td>\n",
       "      <td>3270</td>\n",
       "      <td>630</td>\n",
       "      <td>10</td>\n",
       "      <td>480</td>\n",
       "      <td>10</td>\n",
       "      <td>10</td>\n",
       "    </tr>\n",
       "  </tbody>\n",
       "</table>\n",
       "<p>1 rows × 31 columns</p>\n",
       "</div>"
      ],
      "text/plain": [
       "  New_geog_code    geog_l geog_c   geog_n CLA_started2011 CLA_taken2011  \\\n",
       "0     E92000001  NATIONAL    999  ENGLAND           27310          9480   \n",
       "\n",
       "  SCLA_male  SCLA_female SCLA_U1 SCLA_1to4    ...    SCLA_ICO SCLA_FCO  \\\n",
       "0     14390        12920    5320      5670    ...        5410      150   \n",
       "\n",
       "  SCLA_POG SCLA_S20 SCLA_UPP SCLA_SEPO SCLA_UCAO SCLA_ONCT SCLA_PACE SCLA_SORR  \n",
       "0       20    17320     3270       630        10       480        10        10  \n",
       "\n",
       "[1 rows x 31 columns]"
      ]
     },
     "execution_count": 37,
     "metadata": {},
     "output_type": "execute_result"
    }
   ],
   "source": [
    "yr11.head(1)"
   ]
  },
  {
   "cell_type": "code",
   "execution_count": 38,
   "metadata": {
    "collapsed": true
   },
   "outputs": [],
   "source": [
    "yr11.columns = [str(col) + '_11' for col in yr11.columns]"
   ]
  },
  {
   "cell_type": "code",
   "execution_count": 48,
   "metadata": {
    "collapsed": true
   },
   "outputs": [],
   "source": [
    "yr11 = yr11.rename(columns={'New_geog_code_11': 'New_geog_code'})"
   ]
  },
  {
   "cell_type": "code",
   "execution_count": 49,
   "metadata": {},
   "outputs": [
    {
     "data": {
      "text/html": [
       "<div>\n",
       "<style>\n",
       "    .dataframe thead tr:only-child th {\n",
       "        text-align: right;\n",
       "    }\n",
       "\n",
       "    .dataframe thead th {\n",
       "        text-align: left;\n",
       "    }\n",
       "\n",
       "    .dataframe tbody tr th {\n",
       "        vertical-align: top;\n",
       "    }\n",
       "</style>\n",
       "<table border=\"1\" class=\"dataframe\">\n",
       "  <thead>\n",
       "    <tr style=\"text-align: right;\">\n",
       "      <th></th>\n",
       "      <th>New_geog_code</th>\n",
       "      <th>geog_l_11</th>\n",
       "      <th>geog_c_11</th>\n",
       "      <th>geog_n_11</th>\n",
       "      <th>CLA_started2011_11</th>\n",
       "      <th>CLA_taken2011_11</th>\n",
       "      <th>SCLA_male_11</th>\n",
       "      <th>SCLA_female_11</th>\n",
       "      <th>SCLA_U1_11</th>\n",
       "      <th>SCLA_1to4_11</th>\n",
       "      <th>...</th>\n",
       "      <th>SCLA_ICO_11</th>\n",
       "      <th>SCLA_FCO_11</th>\n",
       "      <th>SCLA_POG_11</th>\n",
       "      <th>SCLA_S20_11</th>\n",
       "      <th>SCLA_UPP_11</th>\n",
       "      <th>SCLA_SEPO_11</th>\n",
       "      <th>SCLA_UCAO_11</th>\n",
       "      <th>SCLA_ONCT_11</th>\n",
       "      <th>SCLA_PACE_11</th>\n",
       "      <th>SCLA_SORR_11</th>\n",
       "    </tr>\n",
       "  </thead>\n",
       "  <tbody>\n",
       "    <tr>\n",
       "      <th>0</th>\n",
       "      <td>E92000001</td>\n",
       "      <td>NATIONAL</td>\n",
       "      <td>999</td>\n",
       "      <td>ENGLAND</td>\n",
       "      <td>27310</td>\n",
       "      <td>9480</td>\n",
       "      <td>14390</td>\n",
       "      <td>12920</td>\n",
       "      <td>5320</td>\n",
       "      <td>5670</td>\n",
       "      <td>...</td>\n",
       "      <td>5410</td>\n",
       "      <td>150</td>\n",
       "      <td>20</td>\n",
       "      <td>17320</td>\n",
       "      <td>3270</td>\n",
       "      <td>630</td>\n",
       "      <td>10</td>\n",
       "      <td>480</td>\n",
       "      <td>10</td>\n",
       "      <td>10</td>\n",
       "    </tr>\n",
       "  </tbody>\n",
       "</table>\n",
       "<p>1 rows × 31 columns</p>\n",
       "</div>"
      ],
      "text/plain": [
       "  New_geog_code geog_l_11 geog_c_11 geog_n_11 CLA_started2011_11  \\\n",
       "0     E92000001  NATIONAL       999   ENGLAND              27310   \n",
       "\n",
       "  CLA_taken2011_11 SCLA_male_11  SCLA_female_11 SCLA_U1_11 SCLA_1to4_11  \\\n",
       "0             9480        14390           12920       5320         5670   \n",
       "\n",
       "      ...      SCLA_ICO_11 SCLA_FCO_11 SCLA_POG_11 SCLA_S20_11 SCLA_UPP_11  \\\n",
       "0     ...             5410         150          20       17320        3270   \n",
       "\n",
       "  SCLA_SEPO_11 SCLA_UCAO_11 SCLA_ONCT_11 SCLA_PACE_11 SCLA_SORR_11  \n",
       "0          630           10          480           10           10  \n",
       "\n",
       "[1 rows x 31 columns]"
      ]
     },
     "execution_count": 49,
     "metadata": {},
     "output_type": "execute_result"
    }
   ],
   "source": [
    "yr11.head(1)"
   ]
  },
  {
   "cell_type": "code",
   "execution_count": 50,
   "metadata": {
    "collapsed": true
   },
   "outputs": [],
   "source": [
    "yr12.columns = [str(col) + '_12' for col in yr12.columns]"
   ]
  },
  {
   "cell_type": "code",
   "execution_count": 51,
   "metadata": {
    "collapsed": true
   },
   "outputs": [],
   "source": [
    "yr12 = yr12.rename(columns={'New_geog_code_12': 'New_geog_code'})"
   ]
  },
  {
   "cell_type": "code",
   "execution_count": 53,
   "metadata": {},
   "outputs": [
    {
     "data": {
      "text/html": [
       "<div>\n",
       "<style>\n",
       "    .dataframe thead tr:only-child th {\n",
       "        text-align: right;\n",
       "    }\n",
       "\n",
       "    .dataframe thead th {\n",
       "        text-align: left;\n",
       "    }\n",
       "\n",
       "    .dataframe tbody tr th {\n",
       "        vertical-align: top;\n",
       "    }\n",
       "</style>\n",
       "<table border=\"1\" class=\"dataframe\">\n",
       "  <thead>\n",
       "    <tr style=\"text-align: right;\">\n",
       "      <th></th>\n",
       "      <th>New_geog_code</th>\n",
       "      <th>geog_l_12</th>\n",
       "      <th>geog_c_12</th>\n",
       "      <th>geog_n_12</th>\n",
       "      <th>CLA_started2012_12</th>\n",
       "      <th>CLA_taken2012_12</th>\n",
       "      <th>SCLA_male_12</th>\n",
       "      <th>SCLA_female_12</th>\n",
       "      <th>SCLA_U1_12</th>\n",
       "      <th>SCLA_1to4_12</th>\n",
       "      <th>...</th>\n",
       "      <th>SCLA_ICO_12</th>\n",
       "      <th>SCLA_FCO_12</th>\n",
       "      <th>SCLA_POG_12</th>\n",
       "      <th>SCLA_S20_12</th>\n",
       "      <th>SCLA_UPP_12</th>\n",
       "      <th>SCLA_SEPO_12</th>\n",
       "      <th>SCLA_UCAO_12</th>\n",
       "      <th>SCLA_ONCT_12</th>\n",
       "      <th>SCLA_PACE_12</th>\n",
       "      <th>SCLA_SORR_12</th>\n",
       "    </tr>\n",
       "  </thead>\n",
       "  <tbody>\n",
       "    <tr>\n",
       "      <th>0</th>\n",
       "      <td>E92000001</td>\n",
       "      <td>NATIONAL</td>\n",
       "      <td>999</td>\n",
       "      <td>ENGLAND</td>\n",
       "      <td>28220</td>\n",
       "      <td>10100</td>\n",
       "      <td>14880</td>\n",
       "      <td>13340</td>\n",
       "      <td>5880</td>\n",
       "      <td>5770</td>\n",
       "      <td>...</td>\n",
       "      <td>6020</td>\n",
       "      <td>190</td>\n",
       "      <td>30</td>\n",
       "      <td>17600</td>\n",
       "      <td>3190</td>\n",
       "      <td>700</td>\n",
       "      <td>0</td>\n",
       "      <td>470</td>\n",
       "      <td>10</td>\n",
       "      <td>10</td>\n",
       "    </tr>\n",
       "  </tbody>\n",
       "</table>\n",
       "<p>1 rows × 31 columns</p>\n",
       "</div>"
      ],
      "text/plain": [
       "  New_geog_code geog_l_12 geog_c_12 geog_n_12 CLA_started2012_12  \\\n",
       "0     E92000001  NATIONAL       999   ENGLAND              28220   \n",
       "\n",
       "  CLA_taken2012_12 SCLA_male_12  SCLA_female_12 SCLA_U1_12 SCLA_1to4_12  \\\n",
       "0            10100        14880           13340       5880         5770   \n",
       "\n",
       "      ...      SCLA_ICO_12 SCLA_FCO_12 SCLA_POG_12  SCLA_S20_12 SCLA_UPP_12  \\\n",
       "0     ...             6020         190          30        17600        3190   \n",
       "\n",
       "  SCLA_SEPO_12 SCLA_UCAO_12 SCLA_ONCT_12 SCLA_PACE_12 SCLA_SORR_12  \n",
       "0          700            0          470           10           10  \n",
       "\n",
       "[1 rows x 31 columns]"
      ]
     },
     "execution_count": 53,
     "metadata": {},
     "output_type": "execute_result"
    }
   ],
   "source": [
    "yr12.head(1)"
   ]
  },
  {
   "cell_type": "markdown",
   "metadata": {},
   "source": [
    "Merge datasets"
   ]
  },
  {
   "cell_type": "code",
   "execution_count": 54,
   "metadata": {
    "collapsed": true
   },
   "outputs": [],
   "source": [
    "merged = pd.merge(yr11, yr12, on='New_geog_code')"
   ]
  },
  {
   "cell_type": "code",
   "execution_count": 55,
   "metadata": {},
   "outputs": [
    {
     "data": {
      "text/html": [
       "<div>\n",
       "<style>\n",
       "    .dataframe thead tr:only-child th {\n",
       "        text-align: right;\n",
       "    }\n",
       "\n",
       "    .dataframe thead th {\n",
       "        text-align: left;\n",
       "    }\n",
       "\n",
       "    .dataframe tbody tr th {\n",
       "        vertical-align: top;\n",
       "    }\n",
       "</style>\n",
       "<table border=\"1\" class=\"dataframe\">\n",
       "  <thead>\n",
       "    <tr style=\"text-align: right;\">\n",
       "      <th></th>\n",
       "      <th>New_geog_code</th>\n",
       "      <th>geog_l_11</th>\n",
       "      <th>geog_c_11</th>\n",
       "      <th>geog_n_11</th>\n",
       "      <th>CLA_started2011_11</th>\n",
       "      <th>CLA_taken2011_11</th>\n",
       "      <th>SCLA_male_11</th>\n",
       "      <th>SCLA_female_11</th>\n",
       "      <th>SCLA_U1_11</th>\n",
       "      <th>SCLA_1to4_11</th>\n",
       "      <th>...</th>\n",
       "      <th>SCLA_ICO_12</th>\n",
       "      <th>SCLA_FCO_12</th>\n",
       "      <th>SCLA_POG_12</th>\n",
       "      <th>SCLA_S20_12</th>\n",
       "      <th>SCLA_UPP_12</th>\n",
       "      <th>SCLA_SEPO_12</th>\n",
       "      <th>SCLA_UCAO_12</th>\n",
       "      <th>SCLA_ONCT_12</th>\n",
       "      <th>SCLA_PACE_12</th>\n",
       "      <th>SCLA_SORR_12</th>\n",
       "    </tr>\n",
       "  </thead>\n",
       "  <tbody>\n",
       "  </tbody>\n",
       "</table>\n",
       "<p>0 rows × 61 columns</p>\n",
       "</div>"
      ],
      "text/plain": [
       "Empty DataFrame\n",
       "Columns: [New_geog_code, geog_l_11, geog_c_11, geog_n_11, CLA_started2011_11, CLA_taken2011_11, SCLA_male_11, SCLA_female_11, SCLA_U1_11, SCLA_1to4_11, SCLA_5to9_11, SCLA_10to15_11, SCLA_16over_11, SCLA_AbNeg_11, SCLA_Cdisab_11, SCLA_ParIll_11, SCLA_FAcSt_11, SCLA_FD_11, SCLA_SUB_11, SCLA_LI_11, SCLA_AbsPar_11, SCLA_ICO_11, SCLA_FCO_11, SCLA_POG_11, SCLA_S20_11, SCLA_UPP_11, SCLA_SEPO_11, SCLA_UCAO_11, SCLA_ONCT_11, SCLA_PACE_11, SCLA_SORR_11, geog_l_12, geog_c_12, geog_n_12, CLA_started2012_12, CLA_taken2012_12, SCLA_male_12, SCLA_female_12, SCLA_U1_12, SCLA_1to4_12, SCLA_5to9_12, SCLA_10to15_12, SCLA_16over_12, SCLA_AbNeg_12, SCLA_Cdisab_12, SCLA_ParIll_12, SCLA_FAcSt_12, SCLA_FD_12, SCLA_SUB_12, SCLA_LI_12, SCLA_AbsPar_12, SCLA_ICO_12, SCLA_FCO_12, SCLA_POG_12, SCLA_S20_12, SCLA_UPP_12, SCLA_SEPO_12, SCLA_UCAO_12, SCLA_ONCT_12, SCLA_PACE_12, SCLA_SORR_12]\n",
       "Index: []\n",
       "\n",
       "[0 rows x 61 columns]"
      ]
     },
     "execution_count": 55,
     "metadata": {},
     "output_type": "execute_result"
    }
   ],
   "source": [
    "merged.head(0)"
   ]
  }
 ],
 "metadata": {
  "kernelspec": {
   "display_name": "Python 2",
   "language": "python",
   "name": "python2"
  },
  "language_info": {
   "codemirror_mode": {
    "name": "ipython",
    "version": 2
   },
   "file_extension": ".py",
   "mimetype": "text/x-python",
   "name": "python",
   "nbconvert_exporter": "python",
   "pygments_lexer": "ipython2",
   "version": "2.7.10"
  }
 },
 "nbformat": 4,
 "nbformat_minor": 2
}
