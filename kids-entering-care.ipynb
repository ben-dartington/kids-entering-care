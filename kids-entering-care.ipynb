{
 "cells": [
  {
   "cell_type": "markdown",
   "metadata": {},
   "source": [
    "# Comparative analysis of kids entering care in Nottingham 2011-2016\n",
    "#### Data source: https://www.gov.uk/government/collections/statistics-looked-after-children"
   ]
  },
  {
   "cell_type": "markdown",
   "metadata": {},
   "source": [
    "Import pandas"
   ]
  },
  {
   "cell_type": "code",
   "execution_count": 1,
   "metadata": {
    "collapsed": true
   },
   "outputs": [],
   "source": [
    "import pandas as pd"
   ]
  },
  {
   "cell_type": "markdown",
   "metadata": {},
   "source": [
    "Import datasets"
   ]
  },
  {
   "cell_type": "code",
   "execution_count": 2,
   "metadata": {
    "scrolled": true
   },
   "outputs": [],
   "source": [
    "yr11 = pd.read_csv(\"data/2011.csv\");"
   ]
  },
  {
   "cell_type": "code",
   "execution_count": 3,
   "metadata": {
    "collapsed": true
   },
   "outputs": [],
   "source": [
    "yr12 = pd.read_csv(\"data/2012.csv\");"
   ]
  },
  {
   "cell_type": "code",
   "execution_count": 4,
   "metadata": {
    "collapsed": true
   },
   "outputs": [],
   "source": [
    "yr13 = pd.read_csv(\"data/2013.csv\");"
   ]
  },
  {
   "cell_type": "code",
   "execution_count": 5,
   "metadata": {
    "collapsed": true
   },
   "outputs": [],
   "source": [
    "yr14 = pd.read_csv(\"data/2014.csv\");"
   ]
  },
  {
   "cell_type": "code",
   "execution_count": 6,
   "metadata": {
    "collapsed": true
   },
   "outputs": [],
   "source": [
    "yr15 = pd.read_csv(\"data/2015.csv\");"
   ]
  },
  {
   "cell_type": "code",
   "execution_count": 7,
   "metadata": {
    "collapsed": true
   },
   "outputs": [],
   "source": [
    "yr16 = pd.read_csv(\"data/2016.csv\");"
   ]
  },
  {
   "cell_type": "markdown",
   "metadata": {},
   "source": [
    "Edit column names by year, leaving geographical ID on which to merge"
   ]
  },
  {
   "cell_type": "code",
   "execution_count": 8,
   "metadata": {
    "collapsed": true
   },
   "outputs": [],
   "source": [
    "yr11.columns = [str(col) + '_11' for col in yr11.columns]"
   ]
  },
  {
   "cell_type": "code",
   "execution_count": 9,
   "metadata": {
    "collapsed": true
   },
   "outputs": [],
   "source": [
    "yr11 = yr11.rename(columns={'geog_c_11': 'geog_c'})"
   ]
  },
  {
   "cell_type": "code",
   "execution_count": 10,
   "metadata": {
    "collapsed": true
   },
   "outputs": [],
   "source": [
    "yr12.columns = [str(col) + '_12' for col in yr12.columns]"
   ]
  },
  {
   "cell_type": "code",
   "execution_count": 11,
   "metadata": {
    "collapsed": true
   },
   "outputs": [],
   "source": [
    "yr12 = yr12.rename(columns={'geog_c_12': 'geog_c'})"
   ]
  },
  {
   "cell_type": "code",
   "execution_count": 12,
   "metadata": {
    "collapsed": true
   },
   "outputs": [],
   "source": [
    "yr13.columns = [str(col) + '_13' for col in yr13.columns]"
   ]
  },
  {
   "cell_type": "code",
   "execution_count": 13,
   "metadata": {
    "collapsed": true
   },
   "outputs": [],
   "source": [
    "yr13 = yr13.rename(columns={'geog_c_13': 'geog_c'})"
   ]
  },
  {
   "cell_type": "code",
   "execution_count": 14,
   "metadata": {
    "collapsed": true
   },
   "outputs": [],
   "source": [
    "yr14.columns = [str(col) + '_14' for col in yr14.columns]"
   ]
  },
  {
   "cell_type": "code",
   "execution_count": 15,
   "metadata": {
    "collapsed": true
   },
   "outputs": [],
   "source": [
    "yr14 = yr14.rename(columns={'geog_c_14': 'geog_c'})"
   ]
  },
  {
   "cell_type": "code",
   "execution_count": 16,
   "metadata": {
    "collapsed": true
   },
   "outputs": [],
   "source": [
    "yr15.columns = [str(col) + '_15' for col in yr15.columns]"
   ]
  },
  {
   "cell_type": "code",
   "execution_count": 17,
   "metadata": {
    "collapsed": true
   },
   "outputs": [],
   "source": [
    "yr15 = yr15.rename(columns={'geog_c_15': 'geog_c'})"
   ]
  },
  {
   "cell_type": "code",
   "execution_count": 18,
   "metadata": {
    "collapsed": true
   },
   "outputs": [],
   "source": [
    "yr16.columns = [str(col) + '_16' for col in yr16.columns]"
   ]
  },
  {
   "cell_type": "code",
   "execution_count": 19,
   "metadata": {
    "collapsed": true
   },
   "outputs": [],
   "source": [
    "yr16 = yr16.rename(columns={'geog_c_16': 'geog_c'})"
   ]
  },
  {
   "cell_type": "markdown",
   "metadata": {},
   "source": [
    "Merge datasets"
   ]
  },
  {
   "cell_type": "code",
   "execution_count": 21,
   "metadata": {},
   "outputs": [],
   "source": [
    "merged = pd.merge(yr11, yr12, on='geog_c')"
   ]
  },
  {
   "cell_type": "code",
   "execution_count": 22,
   "metadata": {
    "collapsed": true
   },
   "outputs": [],
   "source": [
    "merged = pd.merge(merged, yr13, on='geog_c')"
   ]
  },
  {
   "cell_type": "code",
   "execution_count": 23,
   "metadata": {
    "collapsed": true
   },
   "outputs": [],
   "source": [
    "merged = pd.merge(merged, yr14, on='geog_c')"
   ]
  },
  {
   "cell_type": "code",
   "execution_count": 24,
   "metadata": {
    "collapsed": true
   },
   "outputs": [],
   "source": [
    "merged = pd.merge(merged, yr15, on='geog_c')"
   ]
  },
  {
   "cell_type": "code",
   "execution_count": 25,
   "metadata": {
    "collapsed": true
   },
   "outputs": [],
   "source": [
    "merged = pd.merge(merged, yr16, on='geog_c')"
   ]
  },
  {
   "cell_type": "raw",
   "metadata": {},
   "source": [
    "merged.head()"
   ]
  },
  {
   "cell_type": "markdown",
   "metadata": {},
   "source": [
    "The DfE's Local Authority Interactive Tool (LAIT) provides the option to compare local authorities with their 'statistical neighbours', areas that are similar in terms of: mean weekly pay (gross); % of pupils known to be eligible for FSM; % of vehicles that are three yeras old or less; % dependent children in household with occupancy rating of +2 or more; % dependent children in overcrowded household; and % dependent children in households with 2 or more cars.\n",
    "\n",
    "Isolate Nottingham (geog_c = 892) and its 10 'statistical neighbours': Manchester (352); Wolverhampton (336); Sandwell (333); Bristol (801); Southampton (852); Coventry (331); Birmingham (330); Salford (355); Derby (831); and Kingston upon Hull (810)."
   ]
  },
  {
   "cell_type": "code",
   "execution_count": 46,
   "metadata": {
    "collapsed": true
   },
   "outputs": [],
   "source": [
    "stat_nbhs = ['892', '352', '336', '333', '801', '852', '331', '330', '355', '831', '810']"
   ]
  },
  {
   "cell_type": "code",
   "execution_count": 51,
   "metadata": {},
   "outputs": [
    {
     "data": {
      "text/html": [
       "<div>\n",
       "<style>\n",
       "    .dataframe thead tr:only-child th {\n",
       "        text-align: right;\n",
       "    }\n",
       "\n",
       "    .dataframe thead th {\n",
       "        text-align: left;\n",
       "    }\n",
       "\n",
       "    .dataframe tbody tr th {\n",
       "        vertical-align: top;\n",
       "    }\n",
       "</style>\n",
       "<table border=\"1\" class=\"dataframe\">\n",
       "  <thead>\n",
       "    <tr style=\"text-align: right;\">\n",
       "      <th></th>\n",
       "      <th>New_geog_code_11</th>\n",
       "      <th>geog_l_11</th>\n",
       "      <th>geog_c</th>\n",
       "      <th>geog_n_11</th>\n",
       "      <th>CLA_started2011_11</th>\n",
       "      <th>CLA_taken2011_11</th>\n",
       "      <th>SCLA_male_11</th>\n",
       "      <th>SCLA_female_11</th>\n",
       "      <th>SCLA_U1_11</th>\n",
       "      <th>SCLA_1to4_11</th>\n",
       "      <th>...</th>\n",
       "      <th>SCLA_ICO_16</th>\n",
       "      <th>SCLA_FCO_16</th>\n",
       "      <th>SCLA_POG_16</th>\n",
       "      <th>SCLA_S20_16</th>\n",
       "      <th>SCLA_UPP_16</th>\n",
       "      <th>SCLA_SEPO_16</th>\n",
       "      <th>SCLA_UCAO_16</th>\n",
       "      <th>SCLA_ONCT_16</th>\n",
       "      <th>SCLA_PACE_16</th>\n",
       "      <th>SCLA_SORR_16</th>\n",
       "    </tr>\n",
       "  </thead>\n",
       "  <tbody>\n",
       "    <tr>\n",
       "      <th>45</th>\n",
       "      <td>E08000025</td>\n",
       "      <td>LA</td>\n",
       "      <td>330</td>\n",
       "      <td>Birmingham</td>\n",
       "      <td>603</td>\n",
       "      <td>254</td>\n",
       "      <td>303</td>\n",
       "      <td>299</td>\n",
       "      <td>148</td>\n",
       "      <td>128</td>\n",
       "      <td>...</td>\n",
       "      <td>127</td>\n",
       "      <td>x</td>\n",
       "      <td>0</td>\n",
       "      <td>367</td>\n",
       "      <td>168</td>\n",
       "      <td>x</td>\n",
       "      <td>0</td>\n",
       "      <td>x</td>\n",
       "      <td>x</td>\n",
       "      <td>0</td>\n",
       "    </tr>\n",
       "    <tr>\n",
       "      <th>46</th>\n",
       "      <td>E08000026</td>\n",
       "      <td>LA</td>\n",
       "      <td>331</td>\n",
       "      <td>Coventry</td>\n",
       "      <td>214</td>\n",
       "      <td>59</td>\n",
       "      <td>104</td>\n",
       "      <td>109</td>\n",
       "      <td>53</td>\n",
       "      <td>41</td>\n",
       "      <td>...</td>\n",
       "      <td>x</td>\n",
       "      <td>x</td>\n",
       "      <td>0</td>\n",
       "      <td>119</td>\n",
       "      <td>70</td>\n",
       "      <td>x</td>\n",
       "      <td>0</td>\n",
       "      <td>8</td>\n",
       "      <td>0</td>\n",
       "      <td>0</td>\n",
       "    </tr>\n",
       "    <tr>\n",
       "      <th>48</th>\n",
       "      <td>E08000028</td>\n",
       "      <td>LA</td>\n",
       "      <td>333</td>\n",
       "      <td>Sandwell</td>\n",
       "      <td>221</td>\n",
       "      <td>61</td>\n",
       "      <td>120</td>\n",
       "      <td>100</td>\n",
       "      <td>58</td>\n",
       "      <td>49</td>\n",
       "      <td>...</td>\n",
       "      <td>40</td>\n",
       "      <td>x</td>\n",
       "      <td>0</td>\n",
       "      <td>114</td>\n",
       "      <td>x</td>\n",
       "      <td>x</td>\n",
       "      <td>0</td>\n",
       "      <td>x</td>\n",
       "      <td>0</td>\n",
       "      <td>0</td>\n",
       "    </tr>\n",
       "    <tr>\n",
       "      <th>51</th>\n",
       "      <td>E08000031</td>\n",
       "      <td>LA</td>\n",
       "      <td>336</td>\n",
       "      <td>Wolverhampton</td>\n",
       "      <td>231</td>\n",
       "      <td>70</td>\n",
       "      <td>119</td>\n",
       "      <td>112</td>\n",
       "      <td>49</td>\n",
       "      <td>67</td>\n",
       "      <td>...</td>\n",
       "      <td>30</td>\n",
       "      <td>x</td>\n",
       "      <td>0</td>\n",
       "      <td>79</td>\n",
       "      <td>x</td>\n",
       "      <td>0</td>\n",
       "      <td>0</td>\n",
       "      <td>x</td>\n",
       "      <td>x</td>\n",
       "      <td>0</td>\n",
       "    </tr>\n",
       "    <tr>\n",
       "      <th>59</th>\n",
       "      <td>E08000003</td>\n",
       "      <td>LA</td>\n",
       "      <td>352</td>\n",
       "      <td>Manchester</td>\n",
       "      <td>530</td>\n",
       "      <td>199</td>\n",
       "      <td>279</td>\n",
       "      <td>252</td>\n",
       "      <td>90</td>\n",
       "      <td>114</td>\n",
       "      <td>...</td>\n",
       "      <td>120</td>\n",
       "      <td>x</td>\n",
       "      <td>x</td>\n",
       "      <td>221</td>\n",
       "      <td>36</td>\n",
       "      <td>9</td>\n",
       "      <td>x</td>\n",
       "      <td>17</td>\n",
       "      <td>x</td>\n",
       "      <td>0</td>\n",
       "    </tr>\n",
       "    <tr>\n",
       "      <th>62</th>\n",
       "      <td>E08000006</td>\n",
       "      <td>LA</td>\n",
       "      <td>355</td>\n",
       "      <td>Salford</td>\n",
       "      <td>242</td>\n",
       "      <td>115</td>\n",
       "      <td>122</td>\n",
       "      <td>119</td>\n",
       "      <td>55</td>\n",
       "      <td>70</td>\n",
       "      <td>...</td>\n",
       "      <td>73</td>\n",
       "      <td>x</td>\n",
       "      <td>0</td>\n",
       "      <td>x</td>\n",
       "      <td>20</td>\n",
       "      <td>x</td>\n",
       "      <td>0</td>\n",
       "      <td>x</td>\n",
       "      <td>0</td>\n",
       "      <td>0</td>\n",
       "    </tr>\n",
       "    <tr>\n",
       "      <th>82</th>\n",
       "      <td>E06000023</td>\n",
       "      <td>LA</td>\n",
       "      <td>801</td>\n",
       "      <td>Bristol, City of</td>\n",
       "      <td>268</td>\n",
       "      <td>96</td>\n",
       "      <td>137</td>\n",
       "      <td>131</td>\n",
       "      <td>51</td>\n",
       "      <td>45</td>\n",
       "      <td>...</td>\n",
       "      <td>65</td>\n",
       "      <td>x</td>\n",
       "      <td>x</td>\n",
       "      <td>222</td>\n",
       "      <td>34</td>\n",
       "      <td>x</td>\n",
       "      <td>0</td>\n",
       "      <td>x</td>\n",
       "      <td>0</td>\n",
       "      <td>0</td>\n",
       "    </tr>\n",
       "    <tr>\n",
       "      <th>89</th>\n",
       "      <td>E06000010</td>\n",
       "      <td>LA</td>\n",
       "      <td>810</td>\n",
       "      <td>Kingston Upon Hull, City of</td>\n",
       "      <td>237</td>\n",
       "      <td>88</td>\n",
       "      <td>128</td>\n",
       "      <td>109</td>\n",
       "      <td>61</td>\n",
       "      <td>59</td>\n",
       "      <td>...</td>\n",
       "      <td>39</td>\n",
       "      <td>x</td>\n",
       "      <td>0</td>\n",
       "      <td>181</td>\n",
       "      <td>x</td>\n",
       "      <td>x</td>\n",
       "      <td>0</td>\n",
       "      <td>x</td>\n",
       "      <td>0</td>\n",
       "      <td>0</td>\n",
       "    </tr>\n",
       "    <tr>\n",
       "      <th>101</th>\n",
       "      <td>E06000015</td>\n",
       "      <td>LA</td>\n",
       "      <td>831</td>\n",
       "      <td>Derby</td>\n",
       "      <td>183</td>\n",
       "      <td>77</td>\n",
       "      <td>97</td>\n",
       "      <td>86</td>\n",
       "      <td>41</td>\n",
       "      <td>40</td>\n",
       "      <td>...</td>\n",
       "      <td>42</td>\n",
       "      <td>x</td>\n",
       "      <td>0</td>\n",
       "      <td>76</td>\n",
       "      <td>x</td>\n",
       "      <td>x</td>\n",
       "      <td>0</td>\n",
       "      <td>12</td>\n",
       "      <td>0</td>\n",
       "      <td>0</td>\n",
       "    </tr>\n",
       "    <tr>\n",
       "      <th>111</th>\n",
       "      <td>E06000045</td>\n",
       "      <td>LA</td>\n",
       "      <td>852</td>\n",
       "      <td>Southampton</td>\n",
       "      <td>173</td>\n",
       "      <td>63</td>\n",
       "      <td>101</td>\n",
       "      <td>72</td>\n",
       "      <td>45</td>\n",
       "      <td>47</td>\n",
       "      <td>...</td>\n",
       "      <td>47</td>\n",
       "      <td>x</td>\n",
       "      <td>0</td>\n",
       "      <td>119</td>\n",
       "      <td>26</td>\n",
       "      <td>x</td>\n",
       "      <td>0</td>\n",
       "      <td>x</td>\n",
       "      <td>0</td>\n",
       "      <td>0</td>\n",
       "    </tr>\n",
       "    <tr>\n",
       "      <th>143</th>\n",
       "      <td>E06000018</td>\n",
       "      <td>LA</td>\n",
       "      <td>892</td>\n",
       "      <td>Nottingham</td>\n",
       "      <td>247</td>\n",
       "      <td>48</td>\n",
       "      <td>126</td>\n",
       "      <td>121</td>\n",
       "      <td>51</td>\n",
       "      <td>58</td>\n",
       "      <td>...</td>\n",
       "      <td>65</td>\n",
       "      <td>7</td>\n",
       "      <td>0</td>\n",
       "      <td>153</td>\n",
       "      <td>18</td>\n",
       "      <td>x</td>\n",
       "      <td>x</td>\n",
       "      <td>8</td>\n",
       "      <td>0</td>\n",
       "      <td>0</td>\n",
       "    </tr>\n",
       "  </tbody>\n",
       "</table>\n",
       "<p>11 rows × 190 columns</p>\n",
       "</div>"
      ],
      "text/plain": [
       "    New_geog_code_11 geog_l_11 geog_c                    geog_n_11  \\\n",
       "45         E08000025        LA    330                   Birmingham   \n",
       "46         E08000026        LA    331                     Coventry   \n",
       "48         E08000028        LA    333                     Sandwell   \n",
       "51         E08000031        LA    336                Wolverhampton   \n",
       "59         E08000003        LA    352                   Manchester   \n",
       "62         E08000006        LA    355                      Salford   \n",
       "82         E06000023        LA    801             Bristol, City of   \n",
       "89         E06000010        LA    810  Kingston Upon Hull, City of   \n",
       "101        E06000015        LA    831                        Derby   \n",
       "111        E06000045        LA    852                  Southampton   \n",
       "143        E06000018        LA    892                   Nottingham   \n",
       "\n",
       "    CLA_started2011_11 CLA_taken2011_11 SCLA_male_11  SCLA_female_11  \\\n",
       "45                 603              254          303             299   \n",
       "46                 214               59          104             109   \n",
       "48                 221               61          120             100   \n",
       "51                 231               70          119             112   \n",
       "59                 530              199          279             252   \n",
       "62                 242              115          122             119   \n",
       "82                 268               96          137             131   \n",
       "89                 237               88          128             109   \n",
       "101                183               77           97              86   \n",
       "111                173               63          101              72   \n",
       "143                247               48          126             121   \n",
       "\n",
       "    SCLA_U1_11 SCLA_1to4_11     ...      SCLA_ICO_16 SCLA_FCO_16 SCLA_POG_16  \\\n",
       "45         148          128     ...              127           x           0   \n",
       "46          53           41     ...                x           x           0   \n",
       "48          58           49     ...               40           x           0   \n",
       "51          49           67     ...               30           x           0   \n",
       "59          90          114     ...              120           x           x   \n",
       "62          55           70     ...               73           x           0   \n",
       "82          51           45     ...               65           x           x   \n",
       "89          61           59     ...               39           x           0   \n",
       "101         41           40     ...               42           x           0   \n",
       "111         45           47     ...               47           x           0   \n",
       "143         51           58     ...               65           7           0   \n",
       "\n",
       "    SCLA_S20_16 SCLA_UPP_16 SCLA_SEPO_16 SCLA_UCAO_16 SCLA_ONCT_16  \\\n",
       "45          367         168            x            0            x   \n",
       "46          119          70            x            0            8   \n",
       "48          114           x            x            0            x   \n",
       "51           79           x            0            0            x   \n",
       "59          221          36            9            x           17   \n",
       "62            x          20            x            0            x   \n",
       "82          222          34            x            0            x   \n",
       "89          181           x            x            0            x   \n",
       "101          76           x            x            0           12   \n",
       "111         119          26            x            0            x   \n",
       "143         153          18            x            x            8   \n",
       "\n",
       "    SCLA_PACE_16 SCLA_SORR_16  \n",
       "45             x            0  \n",
       "46             0            0  \n",
       "48             0            0  \n",
       "51             x            0  \n",
       "59             x            0  \n",
       "62             0            0  \n",
       "82             0            0  \n",
       "89             0            0  \n",
       "101            0            0  \n",
       "111            0            0  \n",
       "143            0            0  \n",
       "\n",
       "[11 rows x 190 columns]"
      ]
     },
     "execution_count": 51,
     "metadata": {},
     "output_type": "execute_result"
    }
   ],
   "source": [
    "nbhs = merged[merged['geog_c'].isin(stat_nbhs)]\n",
    "nbhs"
   ]
  }
 ],
 "metadata": {
  "kernelspec": {
   "display_name": "Python 2",
   "language": "python",
   "name": "python2"
  },
  "language_info": {
   "codemirror_mode": {
    "name": "ipython",
    "version": 2
   },
   "file_extension": ".py",
   "mimetype": "text/x-python",
   "name": "python",
   "nbconvert_exporter": "python",
   "pygments_lexer": "ipython2",
   "version": "2.7.10"
  }
 },
 "nbformat": 4,
 "nbformat_minor": 2
}
